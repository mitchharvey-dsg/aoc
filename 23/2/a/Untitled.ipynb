{
 "cells": [
  {
   "cell_type": "code",
   "execution_count": 3,
   "id": "c151cc0b-fe76-44cc-91a4-cea423fc24af",
   "metadata": {
    "scrolled": true
   },
   "outputs": [
    {
     "name": "stdout",
     "output_type": "stream",
     "text": [
      "To load \"alexandria\":\n",
      "  Load 1 ASDF system:\n",
      "    alexandria\n"
     ]
    },
    {
     "data": {
      "text/plain": [
       "(\"alexandria\")"
      ]
     },
     "execution_count": 3,
     "metadata": {},
     "output_type": "execute_result"
    },
    {
     "name": "stdout",
     "output_type": "stream",
     "text": [
      "; Loading \"alexandria\"\n",
      "\n",
      "To load \"str\":\n",
      "  Load 1 ASDF system:\n",
      "    str\n",
      "; Loading \"str\"\n",
      "..."
     ]
    },
    {
     "data": {
      "text/plain": [
       "(\"str\")"
      ]
     },
     "execution_count": 3,
     "metadata": {},
     "output_type": "execute_result"
    },
    {
     "name": "stdout",
     "output_type": "stream",
     "text": [
      "\n",
      "To load \"parseq\":\n",
      "  Load 1 ASDF system:\n",
      "    asdf\n",
      "  Install 1 Quicklisp release:\n",
      "    parseq\n",
      "; Fetching #<URL \"http://beta.quicklisp.org/archive/parseq/2023-10-21/parseq-20231021-git.tgz\">\n",
      "; 43.62KB\n",
      "==================================================\n",
      "44,671 bytes in 0.00 seconds (0.00KB/sec)\n",
      "; Loading \"parseq\"\n",
      "[package parseq].........."
     ]
    },
    {
     "data": {
      "text/plain": [
       "(\"parseq\")"
      ]
     },
     "execution_count": 3,
     "metadata": {},
     "output_type": "execute_result"
    },
    {
     "name": "stdout",
     "output_type": "stream",
     "text": [
      "\n"
     ]
    }
   ],
   "source": [
    "(ql:quickload \"alexandria\")\n",
    "(ql:quickload \"str\")\n",
    "(ql:quickload \"parseq\")"
   ]
  },
  {
   "cell_type": "code",
   "execution_count": 17,
   "id": "46811e3a-469f-4cc7-b605-1a4236ca5c52",
   "metadata": {},
   "outputs": [
    {
     "data": {
      "text/plain": [
       "INS"
      ]
     },
     "execution_count": 17,
     "metadata": {},
     "output_type": "execute_result"
    }
   ],
   "source": [
    "(defvar ins (uiop:read-file-lines \"eginput\"))"
   ]
  },
  {
   "cell_type": "code",
   "execution_count": 21,
   "id": "a22a2cb3-d6ba-4785-ad3f-0dad67ea8780",
   "metadata": {},
   "outputs": [
    {
     "data": {
      "text/plain": [
       "(\"Game 1: 3 blue, 4 red; 1 red, 2 green, 6 blue; 2 green\"\n",
       " \"Game 2: 1 blue, 2 green; 3 green, 4 blue, 1 red; 1 green, 1 blue\"\n",
       " \"Game 3: 8 green, 6 blue, 20 red; 5 blue, 4 red, 13 green; 5 green, 1 red\"\n",
       " \"Game 4: 1 green, 3 red, 6 blue; 3 green, 6 red; 3 green, 15 blue, 14 red\"\n",
       " \"Game 5: 6 red, 1 blue, 3 green; 2 blue, 1 red, 2 green\")"
      ]
     },
     "execution_count": 21,
     "metadata": {},
     "output_type": "execute_result"
    },
    {
     "name": "stdout",
     "output_type": "stream",
     "text": [
      "\n",
      "(\"Game 1: 3 blue, 4 red; 1 red, 2 green, 6 blue; 2 green\"\n",
      " \"Game 2: 1 blue, 2 green; 3 green, 4 blue, 1 red; 1 green, 1 blue\"\n",
      " \"Game 3: 8 green, 6 blue, 20 red; 5 blue, 4 red, 13 green; 5 green, 1 red\"\n",
      " \"Game 4: 1 green, 3 red, 6 blue; 3 green, 6 red; 3 green, 15 blue, 14 red\"\n",
      " \"Game 5: 6 red, 1 blue, 3 green; 2 blue, 1 red, 2 green\") "
     ]
    }
   ],
   "source": [
    "(print ins)"
   ]
  },
  {
   "cell_type": "code",
   "execution_count": null,
   "id": "1c5a422c-1892-443d-9092-89f4e6c23bea",
   "metadata": {},
   "outputs": [],
   "source": [
    "(use-package :parseq)"
   ]
  },
  {
   "cell_type": "code",
   "execution_count": 28,
   "id": "1d436647-16ec-4d7b-a6ea-f142985d558c",
   "metadata": {},
   "outputs": [
    {
     "data": {
      "text/plain": [
       "#<FUNCTION (LAMBDA (#:SEQUENCE-0 #:POS-1)\n",
       "             :IN\n",
       "             \"/tmp/AAEC9A0ED36541E8F7BE6384F96E6A48-3660231747.lisp\") {10053A3BBB}>"
      ]
     },
     "execution_count": 28,
     "metadata": {},
     "output_type": "execute_result"
    }
   ],
   "source": [
    "(parseq:defrule game () (and \"Game \" gameid \":\" gamedata) (:choose 1 3))"
   ]
  },
  {
   "cell_type": "code",
   "execution_count": 31,
   "id": "28322304-4bde-4eaf-a00a-4f1351e01b5d",
   "metadata": {},
   "outputs": [
    {
     "data": {
      "text/plain": [
       "#<FUNCTION (LAMBDA (#:SEQUENCE-0 #:POS-1)\n",
       "             :IN\n",
       "             \"/tmp/AAEC9A0ED36541E8F7BE6384F96E6A48-1819630352.lisp\") {100563B7EB}>"
      ]
     },
     "execution_count": 31,
     "metadata": {},
     "output_type": "execute_result"
    }
   ],
   "source": [
    "(parseq:defrule gameid () (:integer))"
   ]
  },
  {
   "cell_type": "code",
   "execution_count": 32,
   "id": "0344cad2-5408-4539-b415-1329a41bd641",
   "metadata": {},
   "outputs": [
    {
     "data": {
      "text/plain": [
       "#<FUNCTION (LAMBDA (#:SEQUENCE-0 #:POS-1)\n",
       "             :IN\n",
       "             \"/tmp/AAEC9A0ED36541E8F7BE6384F96E6A48-1960804162.lisp\") {1005772B4B}>"
      ]
     },
     "execution_count": 32,
     "metadata": {},
     "output_type": "execute_result"
    },
    {
     "name": "stdout",
     "output_type": "stream",
     "text": [
      "SB-INT:SIMPLE-STYLE-WARNING: The variable #:SEQUENCE-0 is defined but never used.\n",
      "SB-INT:SIMPLE-STYLE-WARNING: The variable #:POS-1 is defined but never used.\n"
     ]
    },
    {
     "name": "stderr",
     "output_type": "stream",
     "text": [
      "\n",
      "; file: CELL:1960804162.LISP.NEWEST\n",
      "; in: PARSEQ:DEFRULE GAMEDATA\n",
      ";     (PARSEQ:DEFRULE GAMEDATA\n",
      ";         NIL\n",
      ";         (+ (:STRING)))\n",
      "; --> SETF LET* LAMBDA FUNCTION PARSEQ::WITH-LEFT-RECURSION-PROTECTION PROGN \n",
      "; --> UNWIND-PROTECT FLET BLOCK BLOCK SB-C::%WITHIN-CLEANUP RETURN-FROM PROGN \n",
      "; --> PARSEQ::WITH-SPECIAL-VARS-FROM-OPTIONS PROGN LET PARSEQ::WITH-TRACING LET \n",
      "; --> PARSEQ::CONDITIONAL-DYNAMIC-BIND FLET #:FUNC-22 BLOCK MULTIPLE-VALUE-BIND \n",
      "; --> MULTIPLE-VALUE-CALL PROGN PARSEQ::WITH-PACKRAT PROGN \n",
      "; --> PARSEQ::WITH-EXPANSION-SUCCESS \n",
      "; ==>\n",
      ";   (PARSEQ::WITH-EXPANSION ((#:RESULT-3 #:SUCCESS-4) #:SEQUENCE-0 (+ (:STRING))\n",
      ";                            #:POS-1 NIL)\n",
      ";     (IF #:SUCCESS-4\n",
      ";         (MULTIPLE-VALUE-BIND (#:RESULT-3 #:SUCCESS-4)\n",
      ";             (VALUES #:RESULT-3 T)\n",
      ";           (IF #:SUCCESS-4\n",
      ";               (VALUES #:RESULT-3 T #:POS-1)\n",
      ";               (VALUES NIL NIL #:OLDPOS-2)))\n",
      ";         (VALUES NIL NIL #:OLDPOS-2)))\n",
      "; \n",
      "; caught ERROR:\n",
      ";   during macroexpansion of\n",
      ";   (PARSEQ::WITH-EXPANSION (# #:SEQUENCE-0 # ...)\n",
      ";     (IF #:SUCCESS-4\n",
      ";         #\n",
      ";         ...)).\n",
      ";   Use *BREAK-ON-SIGNALS* to intercept.\n",
      ";   \n",
      ";    Invalid (string ...) expression.\n",
      "; \n",
      "; compilation unit finished\n",
      ";   caught 1 ERROR condition\n"
     ]
    }
   ],
   "source": [
    "(parseq:defrule gamedata () (+ (\n",
    "                                :string)))"
   ]
  },
  {
   "cell_type": "code",
   "execution_count": null,
   "id": "04f6bb1e-301b-4d4c-ae0f-5a4c63bc4303",
   "metadata": {},
   "outputs": [],
   "source": []
  },
  {
   "cell_type": "code",
   "execution_count": 33,
   "id": "e3fede9b-d8bc-4179-a276-4586485de730",
   "metadata": {},
   "outputs": [
    {
     "name": "stderr",
     "output_type": "stream",
     "text": [
      "UNKNOWN-RULE-ERROR: Unknown rule: (INTEGER)\n",
      "\n"
     ]
    },
    {
     "ename": "UNKNOWN-RULE-ERROR",
     "evalue": "Unknown rule: (INTEGER)",
     "output_type": "error",
     "traceback": [
      "0: (PARSEQ::PARSEQ-INTERNAL (INTEGER) Game 1: 3 blue, 4 red; 1 red, 2 green, 6 blue; 2 green #(5))",
      "1: ((FLET \"FUNC-22\" :IN #:DROP-THRU-TAG-15))",
      "2: ((LAMBDA (#:SEQUENCE-0 #:POS-1) :IN \"/tmp/AAEC9A0ED36541E8F7BE6384F96E6A48-1819630352.lisp\") Game 1: 3 blue, 4 red; 1 red, 2 green, 6 blue; 2 green #(5))",
      "3: ((FLET \"FUNC-24\" :IN #:DROP-THRU-TAG-17))",
      "4: ((LAMBDA (#:SEQUENCE-0 #:POS-1) :IN \"/tmp/AAEC9A0ED36541E8F7BE6384F96E6A48-3660231747.lisp\") Game 1: 3 blue, 4 red; 1 red, 2 green, 6 blue; 2 green #(0))",
      "5: (PARSEQ:PARSEQ GAME Game 1: 3 blue, 4 red; 1 red, 2 green, 6 blue; 2 green START 0 END NIL JUNK-ALLOWED NIL PARSE-ERROR NIL)",
      "6: (JUPYTER/COMMON-LISP::EVAL-AND-PRINT (PARSEQ (QUOTE GAME) (FIRST INS)) 0 NIL)",
      "7: ((:METHOD JUPYTER:EVALUATE-FORM (JUPYTER/COMMON-LISP:KERNEL T T T)) #<unused argument> #<FORM-TRACKING-STREAM for \"file /tmp/AAEC9A0ED36541E8F7BE6384F96E6A48-3902647755.lisp\" {10057BCB43}> CELL:3902647755.LISP.NEWEST NIL #<unused argument> #<unused argument>)",
      "8: (JUPYTER/COMMON-LISP::REPL (parseq:parseq 'game (first ins)) CELL:3902647755.LISP.NEWEST NIL)",
      "9: ((:METHOD JUPYTER:EVALUATE-CODE (JUPYTER/COMMON-LISP:KERNEL T)) #<unused argument> (parseq:parseq 'game (first ins)) CELL:3902647755.LISP.NEWEST NIL)",
      "10: (JUPYTER::HANDLE-EXECUTE-REQUEST)",
      "11: (JUPYTER::RUN-SHELL #<KERNEL {100279F543}>)",
      "12: ((LABELS BORDEAUX-THREADS::%BINDING-DEFAULT-SPECIALS-WRAPPER :IN BORDEAUX-THREADS::BINDING-DEFAULT-SPECIALS))",
      "13: ((FLET SB-UNIX::BODY :IN SB-THREAD::RUN))",
      "14: ((FLET \"WITHOUT-INTERRUPTS-BODY-11\" :IN SB-THREAD::RUN))",
      "15: ((FLET SB-UNIX::BODY :IN SB-THREAD::RUN))",
      "16: ((FLET \"WITHOUT-INTERRUPTS-BODY-4\" :IN SB-THREAD::RUN))",
      "17: (SB-THREAD::RUN)",
      "18: (\"foreign function: call_into_lisp_\")",
      "19: (\"foreign function: funcall1\")"
     ]
    }
   ],
   "source": [
    "(parseq:parseq 'game (first ins))"
   ]
  }
 ],
 "metadata": {
  "kernelspec": {
   "display_name": "Common Lisp",
   "language": "common-lisp",
   "name": "common-lisp"
  },
  "language_info": {
   "codemirror_mode": "text/x-common-lisp",
   "file_extension": ".lisp",
   "mimetype": "text/x-common-lisp",
   "name": "common-lisp",
   "pygments_lexer": "common-lisp",
   "version": "2.2.9.debian"
  }
 },
 "nbformat": 4,
 "nbformat_minor": 5
}
